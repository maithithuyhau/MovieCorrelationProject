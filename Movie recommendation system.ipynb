{
 "cells": [
  {
   "cell_type": "code",
   "execution_count": 44,
   "id": "a454d757",
   "metadata": {},
   "outputs": [],
   "source": [
    "import pandas as pd\n",
    "import numpy as np\n",
    "import matplotlib.pyplot as plt\n",
    "from sklearn.cluster import KMeans\n",
    "from sklearn import metrics\n",
    "import warnings \n",
    "warnings.filterwarnings(\"ignore\")"
   ]
  },
  {
   "cell_type": "code",
   "execution_count": 45,
   "id": "5aa067b3",
   "metadata": {},
   "outputs": [],
   "source": [
    "df=pd.read_csv('movies.csv')\n",
    "df['id']=df.index"
   ]
  },
  {
   "cell_type": "code",
   "execution_count": 46,
   "id": "798d7112",
   "metadata": {},
   "outputs": [
    {
     "data": {
      "text/html": [
       "<div>\n",
       "<style scoped>\n",
       "    .dataframe tbody tr th:only-of-type {\n",
       "        vertical-align: middle;\n",
       "    }\n",
       "\n",
       "    .dataframe tbody tr th {\n",
       "        vertical-align: top;\n",
       "    }\n",
       "\n",
       "    .dataframe thead th {\n",
       "        text-align: right;\n",
       "    }\n",
       "</style>\n",
       "<table border=\"1\" class=\"dataframe\">\n",
       "  <thead>\n",
       "    <tr style=\"text-align: right;\">\n",
       "      <th></th>\n",
       "      <th>name</th>\n",
       "      <th>rating</th>\n",
       "      <th>genre</th>\n",
       "      <th>year</th>\n",
       "      <th>released</th>\n",
       "      <th>score</th>\n",
       "      <th>votes</th>\n",
       "      <th>director</th>\n",
       "      <th>writer</th>\n",
       "      <th>star</th>\n",
       "      <th>country</th>\n",
       "      <th>budget</th>\n",
       "      <th>gross</th>\n",
       "      <th>company</th>\n",
       "      <th>runtime</th>\n",
       "      <th>id</th>\n",
       "    </tr>\n",
       "  </thead>\n",
       "  <tbody>\n",
       "    <tr>\n",
       "      <th>0</th>\n",
       "      <td>The Shining</td>\n",
       "      <td>R</td>\n",
       "      <td>Drama</td>\n",
       "      <td>1980</td>\n",
       "      <td>June 13, 1980 (United States)</td>\n",
       "      <td>8.4</td>\n",
       "      <td>927000.0</td>\n",
       "      <td>Stanley Kubrick</td>\n",
       "      <td>Stephen King</td>\n",
       "      <td>Jack Nicholson</td>\n",
       "      <td>United Kingdom</td>\n",
       "      <td>19000000.0</td>\n",
       "      <td>46998772.0</td>\n",
       "      <td>Warner Bros.</td>\n",
       "      <td>146.0</td>\n",
       "      <td>0</td>\n",
       "    </tr>\n",
       "    <tr>\n",
       "      <th>1</th>\n",
       "      <td>The Blue Lagoon</td>\n",
       "      <td>R</td>\n",
       "      <td>Adventure</td>\n",
       "      <td>1980</td>\n",
       "      <td>July 2, 1980 (United States)</td>\n",
       "      <td>5.8</td>\n",
       "      <td>65000.0</td>\n",
       "      <td>Randal Kleiser</td>\n",
       "      <td>Henry De Vere Stacpoole</td>\n",
       "      <td>Brooke Shields</td>\n",
       "      <td>United States</td>\n",
       "      <td>4500000.0</td>\n",
       "      <td>58853106.0</td>\n",
       "      <td>Columbia Pictures</td>\n",
       "      <td>104.0</td>\n",
       "      <td>1</td>\n",
       "    </tr>\n",
       "    <tr>\n",
       "      <th>2</th>\n",
       "      <td>Star Wars: Episode V - The Empire Strikes Back</td>\n",
       "      <td>PG</td>\n",
       "      <td>Action</td>\n",
       "      <td>1980</td>\n",
       "      <td>June 20, 1980 (United States)</td>\n",
       "      <td>8.7</td>\n",
       "      <td>1200000.0</td>\n",
       "      <td>Irvin Kershner</td>\n",
       "      <td>Leigh Brackett</td>\n",
       "      <td>Mark Hamill</td>\n",
       "      <td>United States</td>\n",
       "      <td>18000000.0</td>\n",
       "      <td>538375067.0</td>\n",
       "      <td>Lucasfilm</td>\n",
       "      <td>124.0</td>\n",
       "      <td>2</td>\n",
       "    </tr>\n",
       "    <tr>\n",
       "      <th>3</th>\n",
       "      <td>Airplane!</td>\n",
       "      <td>PG</td>\n",
       "      <td>Comedy</td>\n",
       "      <td>1980</td>\n",
       "      <td>July 2, 1980 (United States)</td>\n",
       "      <td>7.7</td>\n",
       "      <td>221000.0</td>\n",
       "      <td>Jim Abrahams</td>\n",
       "      <td>Jim Abrahams</td>\n",
       "      <td>Robert Hays</td>\n",
       "      <td>United States</td>\n",
       "      <td>3500000.0</td>\n",
       "      <td>83453539.0</td>\n",
       "      <td>Paramount Pictures</td>\n",
       "      <td>88.0</td>\n",
       "      <td>3</td>\n",
       "    </tr>\n",
       "    <tr>\n",
       "      <th>4</th>\n",
       "      <td>Caddyshack</td>\n",
       "      <td>R</td>\n",
       "      <td>Comedy</td>\n",
       "      <td>1980</td>\n",
       "      <td>July 25, 1980 (United States)</td>\n",
       "      <td>7.3</td>\n",
       "      <td>108000.0</td>\n",
       "      <td>Harold Ramis</td>\n",
       "      <td>Brian Doyle-Murray</td>\n",
       "      <td>Chevy Chase</td>\n",
       "      <td>United States</td>\n",
       "      <td>6000000.0</td>\n",
       "      <td>39846344.0</td>\n",
       "      <td>Orion Pictures</td>\n",
       "      <td>98.0</td>\n",
       "      <td>4</td>\n",
       "    </tr>\n",
       "  </tbody>\n",
       "</table>\n",
       "</div>"
      ],
      "text/plain": [
       "                                             name rating      genre  year  \\\n",
       "0                                     The Shining      R      Drama  1980   \n",
       "1                                 The Blue Lagoon      R  Adventure  1980   \n",
       "2  Star Wars: Episode V - The Empire Strikes Back     PG     Action  1980   \n",
       "3                                       Airplane!     PG     Comedy  1980   \n",
       "4                                      Caddyshack      R     Comedy  1980   \n",
       "\n",
       "                        released  score      votes         director  \\\n",
       "0  June 13, 1980 (United States)    8.4   927000.0  Stanley Kubrick   \n",
       "1   July 2, 1980 (United States)    5.8    65000.0   Randal Kleiser   \n",
       "2  June 20, 1980 (United States)    8.7  1200000.0   Irvin Kershner   \n",
       "3   July 2, 1980 (United States)    7.7   221000.0     Jim Abrahams   \n",
       "4  July 25, 1980 (United States)    7.3   108000.0     Harold Ramis   \n",
       "\n",
       "                    writer            star         country      budget  \\\n",
       "0             Stephen King  Jack Nicholson  United Kingdom  19000000.0   \n",
       "1  Henry De Vere Stacpoole  Brooke Shields   United States   4500000.0   \n",
       "2           Leigh Brackett     Mark Hamill   United States  18000000.0   \n",
       "3             Jim Abrahams     Robert Hays   United States   3500000.0   \n",
       "4       Brian Doyle-Murray     Chevy Chase   United States   6000000.0   \n",
       "\n",
       "         gross             company  runtime  id  \n",
       "0   46998772.0        Warner Bros.    146.0   0  \n",
       "1   58853106.0   Columbia Pictures    104.0   1  \n",
       "2  538375067.0           Lucasfilm    124.0   2  \n",
       "3   83453539.0  Paramount Pictures     88.0   3  \n",
       "4   39846344.0      Orion Pictures     98.0   4  "
      ]
     },
     "execution_count": 46,
     "metadata": {},
     "output_type": "execute_result"
    }
   ],
   "source": [
    "df=df.dropna()\n",
    "df.head(5)"
   ]
  },
  {
   "cell_type": "code",
   "execution_count": 47,
   "id": "d028b6d7",
   "metadata": {},
   "outputs": [
    {
     "name": "stdout",
     "output_type": "stream",
     "text": [
      "<class 'pandas.core.frame.DataFrame'>\n",
      "Int64Index: 5421 entries, 0 to 7652\n",
      "Data columns (total 16 columns):\n",
      " #   Column    Non-Null Count  Dtype  \n",
      "---  ------    --------------  -----  \n",
      " 0   name      5421 non-null   object \n",
      " 1   rating    5421 non-null   object \n",
      " 2   genre     5421 non-null   object \n",
      " 3   year      5421 non-null   int64  \n",
      " 4   released  5421 non-null   object \n",
      " 5   score     5421 non-null   float64\n",
      " 6   votes     5421 non-null   float64\n",
      " 7   director  5421 non-null   object \n",
      " 8   writer    5421 non-null   object \n",
      " 9   star      5421 non-null   object \n",
      " 10  country   5421 non-null   object \n",
      " 11  budget    5421 non-null   float64\n",
      " 12  gross     5421 non-null   float64\n",
      " 13  company   5421 non-null   object \n",
      " 14  runtime   5421 non-null   float64\n",
      " 15  id        5421 non-null   int64  \n",
      "dtypes: float64(5), int64(2), object(9)\n",
      "memory usage: 720.0+ KB\n"
     ]
    }
   ],
   "source": [
    "df.info()"
   ]
  },
  {
   "cell_type": "code",
   "execution_count": 48,
   "id": "d53abc0b",
   "metadata": {},
   "outputs": [
    {
     "name": "stdout",
     "output_type": "stream",
     "text": [
      "<class 'pandas.core.frame.DataFrame'>\n",
      "Int64Index: 5421 entries, 0 to 7652\n",
      "Data columns (total 4 columns):\n",
      " #   Column   Non-Null Count  Dtype  \n",
      "---  ------   --------------  -----  \n",
      " 0   rating   5421 non-null   object \n",
      " 1   genre    5421 non-null   object \n",
      " 2   score    5421 non-null   float64\n",
      " 3   runtime  5421 non-null   float64\n",
      "dtypes: float64(2), object(2)\n",
      "memory usage: 211.8+ KB\n"
     ]
    }
   ],
   "source": [
    "movies_df = df[[\"rating\", \"genre\", \"score\",\"runtime\"]]\n",
    "movies_df.info()"
   ]
  },
  {
   "cell_type": "code",
   "execution_count": 49,
   "id": "5139cebc",
   "metadata": {},
   "outputs": [
    {
     "name": "stdout",
     "output_type": "stream",
     "text": [
      "<class 'pandas.core.frame.DataFrame'>\n",
      "Int64Index: 5421 entries, 0 to 7652\n",
      "Data columns (total 4 columns):\n",
      " #   Column   Non-Null Count  Dtype  \n",
      "---  ------   --------------  -----  \n",
      " 0   rating   5421 non-null   object \n",
      " 1   genre    5421 non-null   object \n",
      " 2   score    5421 non-null   float64\n",
      " 3   runtime  5421 non-null   float64\n",
      "dtypes: float64(2), object(2)\n",
      "memory usage: 211.8+ KB\n"
     ]
    }
   ],
   "source": [
    "movies_df=movies_df.dropna()\n",
    "movies_df.info()"
   ]
  },
  {
   "cell_type": "code",
   "execution_count": 50,
   "id": "65331260",
   "metadata": {},
   "outputs": [
    {
     "data": {
      "text/plain": [
       "Comedy       1496\n",
       "Action       1415\n",
       "Drama         863\n",
       "Crime         399\n",
       "Adventure     327\n",
       "Biography     311\n",
       "Animation     277\n",
       "Horror        251\n",
       "Fantasy        41\n",
       "Mystery        17\n",
       "Thriller        7\n",
       "Sci-Fi          6\n",
       "Romance         5\n",
       "Family          4\n",
       "Western         2\n",
       "Name: genre, dtype: int64"
      ]
     },
     "execution_count": 50,
     "metadata": {},
     "output_type": "execute_result"
    }
   ],
   "source": [
    "movies_df.genre.value_counts()"
   ]
  },
  {
   "cell_type": "code",
   "execution_count": 51,
   "id": "4ebe2bee",
   "metadata": {},
   "outputs": [],
   "source": [
    "# mình sẽ group các thể loại ít xuất hiện thành một nhóm other\n",
    "movies_df['genre']=movies_df['genre'].apply(lambda genre: genre if genre in ['Comedy','Action','Drama','Crime','Biography','Adventure','Animation','Horror'] else 'Others')"
   ]
  },
  {
   "cell_type": "code",
   "execution_count": 52,
   "id": "0310eef2",
   "metadata": {},
   "outputs": [
    {
     "data": {
      "text/plain": [
       "Comedy       1496\n",
       "Action       1415\n",
       "Drama         863\n",
       "Crime         399\n",
       "Adventure     327\n",
       "Biography     311\n",
       "Animation     277\n",
       "Horror        251\n",
       "Others         82\n",
       "Name: genre, dtype: int64"
      ]
     },
     "execution_count": 52,
     "metadata": {},
     "output_type": "execute_result"
    }
   ],
   "source": [
    "movies_df['genre'].value_counts()"
   ]
  },
  {
   "cell_type": "code",
   "execution_count": 53,
   "id": "34e99cee",
   "metadata": {},
   "outputs": [
    {
     "data": {
      "text/html": [
       "<div>\n",
       "<style scoped>\n",
       "    .dataframe tbody tr th:only-of-type {\n",
       "        vertical-align: middle;\n",
       "    }\n",
       "\n",
       "    .dataframe tbody tr th {\n",
       "        vertical-align: top;\n",
       "    }\n",
       "\n",
       "    .dataframe thead th {\n",
       "        text-align: right;\n",
       "    }\n",
       "</style>\n",
       "<table border=\"1\" class=\"dataframe\">\n",
       "  <thead>\n",
       "    <tr style=\"text-align: right;\">\n",
       "      <th></th>\n",
       "      <th>rating</th>\n",
       "      <th>genre</th>\n",
       "      <th>score</th>\n",
       "      <th>runtime</th>\n",
       "    </tr>\n",
       "  </thead>\n",
       "  <tbody>\n",
       "    <tr>\n",
       "      <th>0</th>\n",
       "      <td>R</td>\n",
       "      <td>2</td>\n",
       "      <td>8.4</td>\n",
       "      <td>146.0</td>\n",
       "    </tr>\n",
       "    <tr>\n",
       "      <th>1</th>\n",
       "      <td>R</td>\n",
       "      <td>5</td>\n",
       "      <td>5.8</td>\n",
       "      <td>104.0</td>\n",
       "    </tr>\n",
       "    <tr>\n",
       "      <th>2</th>\n",
       "      <td>PG</td>\n",
       "      <td>1</td>\n",
       "      <td>8.7</td>\n",
       "      <td>124.0</td>\n",
       "    </tr>\n",
       "    <tr>\n",
       "      <th>3</th>\n",
       "      <td>PG</td>\n",
       "      <td>0</td>\n",
       "      <td>7.7</td>\n",
       "      <td>88.0</td>\n",
       "    </tr>\n",
       "    <tr>\n",
       "      <th>4</th>\n",
       "      <td>R</td>\n",
       "      <td>0</td>\n",
       "      <td>7.3</td>\n",
       "      <td>98.0</td>\n",
       "    </tr>\n",
       "  </tbody>\n",
       "</table>\n",
       "</div>"
      ],
      "text/plain": [
       "  rating  genre  score  runtime\n",
       "0      R      2    8.4    146.0\n",
       "1      R      5    5.8    104.0\n",
       "2     PG      1    8.7    124.0\n",
       "3     PG      0    7.7     88.0\n",
       "4      R      0    7.3     98.0"
      ]
     },
     "execution_count": 53,
     "metadata": {},
     "output_type": "execute_result"
    }
   ],
   "source": [
    "#để chuyển genre sang dạng số thì mình sẽ dùng mapper\n",
    "mapper={'Comedy':0,'Action':1,'Drama':2,'Crime':3,'Biography':4,'Adventure':5,'Animation':5,'Horror':6,'Others':7}\n",
    "movies_df['genre']=movies_df['genre'].map(mapper)\n",
    "movies_df.head()"
   ]
  },
  {
   "cell_type": "code",
   "execution_count": 54,
   "id": "a33abab2",
   "metadata": {},
   "outputs": [
    {
     "data": {
      "text/plain": [
       "R            2597\n",
       "PG-13        1729\n",
       "PG            907\n",
       "G             111\n",
       "Not Rated      44\n",
       "Unrated        17\n",
       "NC-17          12\n",
       "TV-MA           2\n",
       "Approved        1\n",
       "X               1\n",
       "Name: rating, dtype: int64"
      ]
     },
     "execution_count": 54,
     "metadata": {},
     "output_type": "execute_result"
    }
   ],
   "source": [
    "movies_df.rating.value_counts()"
   ]
  },
  {
   "cell_type": "code",
   "execution_count": 55,
   "id": "546979b6",
   "metadata": {},
   "outputs": [
    {
     "data": {
      "text/plain": [
       "R            2597\n",
       "PG-13        1729\n",
       "PG            907\n",
       "G             111\n",
       "Not Rated      44\n",
       "Others         33\n",
       "Name: rating, dtype: int64"
      ]
     },
     "execution_count": 55,
     "metadata": {},
     "output_type": "execute_result"
    }
   ],
   "source": [
    "# mình sẽ group các loại rating ít xuất hiện thành một nhóm other\n",
    "movies_df['rating']=movies_df['rating'].apply(lambda rating: rating if rating in ['R','PG','PG-13','Not Rated','G'] else 'Others')\n",
    "movies_df['rating'].value_counts()"
   ]
  },
  {
   "cell_type": "code",
   "execution_count": 56,
   "id": "1f892bdf",
   "metadata": {},
   "outputs": [
    {
     "data": {
      "text/html": [
       "<div>\n",
       "<style scoped>\n",
       "    .dataframe tbody tr th:only-of-type {\n",
       "        vertical-align: middle;\n",
       "    }\n",
       "\n",
       "    .dataframe tbody tr th {\n",
       "        vertical-align: top;\n",
       "    }\n",
       "\n",
       "    .dataframe thead th {\n",
       "        text-align: right;\n",
       "    }\n",
       "</style>\n",
       "<table border=\"1\" class=\"dataframe\">\n",
       "  <thead>\n",
       "    <tr style=\"text-align: right;\">\n",
       "      <th></th>\n",
       "      <th>rating</th>\n",
       "      <th>genre</th>\n",
       "      <th>score</th>\n",
       "      <th>runtime</th>\n",
       "    </tr>\n",
       "  </thead>\n",
       "  <tbody>\n",
       "    <tr>\n",
       "      <th>0</th>\n",
       "      <td>0</td>\n",
       "      <td>2</td>\n",
       "      <td>8.4</td>\n",
       "      <td>146.0</td>\n",
       "    </tr>\n",
       "    <tr>\n",
       "      <th>1</th>\n",
       "      <td>0</td>\n",
       "      <td>5</td>\n",
       "      <td>5.8</td>\n",
       "      <td>104.0</td>\n",
       "    </tr>\n",
       "    <tr>\n",
       "      <th>2</th>\n",
       "      <td>1</td>\n",
       "      <td>1</td>\n",
       "      <td>8.7</td>\n",
       "      <td>124.0</td>\n",
       "    </tr>\n",
       "    <tr>\n",
       "      <th>3</th>\n",
       "      <td>1</td>\n",
       "      <td>0</td>\n",
       "      <td>7.7</td>\n",
       "      <td>88.0</td>\n",
       "    </tr>\n",
       "    <tr>\n",
       "      <th>4</th>\n",
       "      <td>0</td>\n",
       "      <td>0</td>\n",
       "      <td>7.3</td>\n",
       "      <td>98.0</td>\n",
       "    </tr>\n",
       "  </tbody>\n",
       "</table>\n",
       "</div>"
      ],
      "text/plain": [
       "   rating  genre  score  runtime\n",
       "0       0      2    8.4    146.0\n",
       "1       0      5    5.8    104.0\n",
       "2       1      1    8.7    124.0\n",
       "3       1      0    7.7     88.0\n",
       "4       0      0    7.3     98.0"
      ]
     },
     "execution_count": 56,
     "metadata": {},
     "output_type": "execute_result"
    }
   ],
   "source": [
    "#để chuyển rating sang dạng số thì mình sẽ dùng mapper\n",
    "mapper={'R':0,'PG':1,'PG-13':2,'Not Rated':3,'G':4,'Others':5}\n",
    "movies_df['rating']=movies_df['rating'].map(mapper)\n",
    "movies_df.head()"
   ]
  },
  {
   "cell_type": "code",
   "execution_count": 57,
   "id": "ea10dfb2",
   "metadata": {},
   "outputs": [
    {
     "data": {
      "text/plain": [
       "array([[  0. ,   2. ,   8.4, 146. ],\n",
       "       [  0. ,   5. ,   5.8, 104. ],\n",
       "       [  1. ,   1. ,   8.7, 124. ],\n",
       "       ...,\n",
       "       [  1. ,   5. ,   5.6, 101. ],\n",
       "       [  1. ,   5. ,   6.8, 100. ],\n",
       "       [  3. ,   1. ,   6.8, 149. ]])"
      ]
     },
     "execution_count": 57,
     "metadata": {},
     "output_type": "execute_result"
    }
   ],
   "source": [
    "movie_np=movies_df.to_numpy()\n",
    "movie_np"
   ]
  },
  {
   "cell_type": "code",
   "execution_count": 58,
   "id": "892e0801",
   "metadata": {},
   "outputs": [],
   "source": [
    "#mình sẽ thử chọn 5 cụm và đánh giá thử xem sao\n",
    "k_mean_5=KMeans(n_clusters=5)\n",
    "k_mean_5.fit(movie_np)\n",
    "label_5=k_mean_5.labels_"
   ]
  },
  {
   "cell_type": "code",
   "execution_count": 59,
   "id": "6fc1db5c",
   "metadata": {},
   "outputs": [
    {
     "data": {
      "text/plain": [
       "array([3, 1, 0, ..., 1, 1, 3])"
      ]
     },
     "execution_count": 59,
     "metadata": {},
     "output_type": "execute_result"
    }
   ],
   "source": [
    "label_5"
   ]
  },
  {
   "cell_type": "code",
   "execution_count": 60,
   "id": "f89baed0",
   "metadata": {},
   "outputs": [
    {
     "data": {
      "text/plain": [
       "0.45954793656525567"
      ]
     },
     "execution_count": 60,
     "metadata": {},
     "output_type": "execute_result"
    }
   ],
   "source": [
    "metrics.silhouette_score(movie_np,label_5, metric='euclidean')\n"
   ]
  },
  {
   "cell_type": "code",
   "execution_count": 61,
   "id": "f76d40c6",
   "metadata": {},
   "outputs": [
    {
     "data": {
      "text/plain": [
       "11252.027359716429"
      ]
     },
     "execution_count": 61,
     "metadata": {},
     "output_type": "execute_result"
    }
   ],
   "source": [
    "metrics.calinski_harabasz_score(movie_np,label_5)"
   ]
  },
  {
   "cell_type": "markdown",
   "id": "a246e474",
   "metadata": {},
   "source": [
    "## Mình sẽ dùng phương pháp Elbow method để tìm ra số cum tối ưu nhất\n"
   ]
  },
  {
   "cell_type": "code",
   "execution_count": 62,
   "id": "47798e4d",
   "metadata": {},
   "outputs": [],
   "source": [
    "sum_distances =[]\n",
    "K = range(1,15)\n",
    "for k in K:\n",
    "    k_mean = KMeans(n_clusters=k)\n",
    "    k_mean.fit(movie_np)\n",
    "    sum_distances.append(k_mean.inertia_)"
   ]
  },
  {
   "cell_type": "code",
   "execution_count": 63,
   "id": "39d80a85",
   "metadata": {},
   "outputs": [
    {
     "data": {
      "image/png": "[encoded data removed]",
      "text/plain": [
       "<Figure size 640x480 with 1 Axes>"
      ]
     },
     "metadata": {},
     "output_type": "display_data"
    }
   ],
   "source": [
    "plt.plot(K, sum_distances, 'bx-')\n",
    "plt.show()"
   ]
  },
  {
   "cell_type": "code",
   "execution_count": 64,
   "id": "6a26c5a8",
   "metadata": {},
   "outputs": [],
   "source": [
    "# theo biểu đồ khủy tay trên thì mình thấy k=4 thì có vẻ như tối ưu nhất\n",
    "k_mean_4=KMeans(n_clusters=4)\n",
    "model=k_mean_4.fit(movie_np)\n",
    "label_4=k_mean_4.labels_"
   ]
  },
  {
   "cell_type": "code",
   "execution_count": 65,
   "id": "ad4e1271",
   "metadata": {},
   "outputs": [
    {
     "data": {
      "text/plain": [
       "array([1, 3, 1, ..., 0, 0, 1])"
      ]
     },
     "execution_count": 65,
     "metadata": {},
     "output_type": "execute_result"
    }
   ],
   "source": [
    "label_4"
   ]
  },
  {
   "cell_type": "code",
   "execution_count": 66,
   "id": "6b95e6d2",
   "metadata": {},
   "outputs": [
    {
     "data": {
      "text/plain": [
       "0.4981176300339368"
      ]
     },
     "execution_count": 66,
     "metadata": {},
     "output_type": "execute_result"
    }
   ],
   "source": [
    "metrics.silhouette_score(movie_np,label_4, metric='euclidean')\n"
   ]
  },
  {
   "cell_type": "code",
   "execution_count": 67,
   "id": "6ba78340",
   "metadata": {},
   "outputs": [
    {
     "data": {
      "text/plain": [
       "10105.231057211256"
      ]
     },
     "execution_count": 67,
     "metadata": {},
     "output_type": "execute_result"
    }
   ],
   "source": [
    "metrics.calinski_harabasz_score(movie_np,label_4)"
   ]
  },
  {
   "cell_type": "code",
   "execution_count": 68,
   "id": "9a4b00ae",
   "metadata": {},
   "outputs": [
    {
     "data": {
      "text/html": [
       "<div>\n",
       "<style scoped>\n",
       "    .dataframe tbody tr th:only-of-type {\n",
       "        vertical-align: middle;\n",
       "    }\n",
       "\n",
       "    .dataframe tbody tr th {\n",
       "        vertical-align: top;\n",
       "    }\n",
       "\n",
       "    .dataframe thead th {\n",
       "        text-align: right;\n",
       "    }\n",
       "</style>\n",
       "<table border=\"1\" class=\"dataframe\">\n",
       "  <thead>\n",
       "    <tr style=\"text-align: right;\">\n",
       "      <th></th>\n",
       "      <th>rating</th>\n",
       "      <th>genre</th>\n",
       "      <th>score</th>\n",
       "      <th>runtime</th>\n",
       "    </tr>\n",
       "  </thead>\n",
       "  <tbody>\n",
       "    <tr>\n",
       "      <th>0</th>\n",
       "      <td>0</td>\n",
       "      <td>2</td>\n",
       "      <td>8.4</td>\n",
       "      <td>146.0</td>\n",
       "    </tr>\n",
       "    <tr>\n",
       "      <th>1</th>\n",
       "      <td>0</td>\n",
       "      <td>5</td>\n",
       "      <td>5.8</td>\n",
       "      <td>104.0</td>\n",
       "    </tr>\n",
       "    <tr>\n",
       "      <th>2</th>\n",
       "      <td>1</td>\n",
       "      <td>1</td>\n",
       "      <td>8.7</td>\n",
       "      <td>124.0</td>\n",
       "    </tr>\n",
       "    <tr>\n",
       "      <th>3</th>\n",
       "      <td>1</td>\n",
       "      <td>0</td>\n",
       "      <td>7.7</td>\n",
       "      <td>88.0</td>\n",
       "    </tr>\n",
       "    <tr>\n",
       "      <th>4</th>\n",
       "      <td>0</td>\n",
       "      <td>0</td>\n",
       "      <td>7.3</td>\n",
       "      <td>98.0</td>\n",
       "    </tr>\n",
       "  </tbody>\n",
       "</table>\n",
       "</div>"
      ],
      "text/plain": [
       "   rating  genre  score  runtime\n",
       "0       0      2    8.4    146.0\n",
       "1       0      5    5.8    104.0\n",
       "2       1      1    8.7    124.0\n",
       "3       1      0    7.7     88.0\n",
       "4       0      0    7.3     98.0"
      ]
     },
     "execution_count": 68,
     "metadata": {},
     "output_type": "execute_result"
    }
   ],
   "source": [
    "movies_df.head()"
   ]
  },
  {
   "cell_type": "code",
   "execution_count": 69,
   "id": "41e618e8",
   "metadata": {},
   "outputs": [
    {
     "data": {
      "image/png": "[encoded data removed]",
      "text/plain": [
       "<Figure size 640x480 with 1 Axes>"
      ]
     },
     "metadata": {},
     "output_type": "display_data"
    }
   ],
   "source": [
    "plt.scatter(movie_np[:,0], movie_np[:,3])\n",
    "plt.show()"
   ]
  },
  {
   "cell_type": "code",
   "execution_count": 73,
   "id": "afeaf083",
   "metadata": {},
   "outputs": [
    {
     "ename": "IndexError",
     "evalue": "index 4 is out of bounds for axis 1 with size 4",
     "output_type": "error",
     "traceback": [
      "\u001b[1;31m---------------------------------------------------------------------------\u001b[0m",
      "\u001b[1;31mIndexError\u001b[0m                                Traceback (most recent call last)",
      "Cell \u001b[1;32mIn[73], line 29\u001b[0m\n\u001b[0;32m     15\u001b[0m plt\u001b[38;5;241m.\u001b[39mscatter(\n\u001b[0;32m     16\u001b[0m     movie_np[label_4 \u001b[38;5;241m==\u001b[39m \u001b[38;5;241m2\u001b[39m, \u001b[38;5;241m0\u001b[39m], movie_np[label_4 \u001b[38;5;241m==\u001b[39m \u001b[38;5;241m2\u001b[39m, \u001b[38;5;241m3\u001b[39m],\n\u001b[0;32m     17\u001b[0m     c\u001b[38;5;241m=\u001b[39m\u001b[38;5;124m'\u001b[39m\u001b[38;5;124mlightblue\u001b[39m\u001b[38;5;124m'\u001b[39m,\n\u001b[0;32m     18\u001b[0m     marker\u001b[38;5;241m=\u001b[39m\u001b[38;5;124m'\u001b[39m\u001b[38;5;124mv\u001b[39m\u001b[38;5;124m'\u001b[39m, edgecolor\u001b[38;5;241m=\u001b[39m\u001b[38;5;124m'\u001b[39m\u001b[38;5;124mblack\u001b[39m\u001b[38;5;124m'\u001b[39m,\n\u001b[0;32m     19\u001b[0m     label\u001b[38;5;241m=\u001b[39m\u001b[38;5;124m'\u001b[39m\u001b[38;5;124mcluster 3\u001b[39m\u001b[38;5;124m'\u001b[39m\n\u001b[0;32m     20\u001b[0m )\n\u001b[0;32m     21\u001b[0m plt\u001b[38;5;241m.\u001b[39mscatter(\n\u001b[0;32m     22\u001b[0m     movie_np[label_4 \u001b[38;5;241m==\u001b[39m \u001b[38;5;241m3\u001b[39m, \u001b[38;5;241m0\u001b[39m], movie_np[label_4 \u001b[38;5;241m==\u001b[39m \u001b[38;5;241m3\u001b[39m, \u001b[38;5;241m3\u001b[39m],\n\u001b[0;32m     23\u001b[0m     c\u001b[38;5;241m=\u001b[39m\u001b[38;5;124m'\u001b[39m\u001b[38;5;124mlightblue\u001b[39m\u001b[38;5;124m'\u001b[39m,\n\u001b[0;32m     24\u001b[0m     marker\u001b[38;5;241m=\u001b[39m\u001b[38;5;124m'\u001b[39m\u001b[38;5;124mv\u001b[39m\u001b[38;5;124m'\u001b[39m, edgecolor\u001b[38;5;241m=\u001b[39m\u001b[38;5;124m'\u001b[39m\u001b[38;5;124mblack\u001b[39m\u001b[38;5;124m'\u001b[39m,\n\u001b[0;32m     25\u001b[0m     label\u001b[38;5;241m=\u001b[39m\u001b[38;5;124m'\u001b[39m\u001b[38;5;124mcluster 4\u001b[39m\u001b[38;5;124m'\u001b[39m\n\u001b[0;32m     26\u001b[0m )\n\u001b[0;32m     28\u001b[0m plt\u001b[38;5;241m.\u001b[39mscatter(\n\u001b[1;32m---> 29\u001b[0m     model\u001b[38;5;241m.\u001b[39mcluster_centers_[:, \u001b[38;5;241m0\u001b[39m], \u001b[43mmodel\u001b[49m\u001b[38;5;241;43m.\u001b[39;49m\u001b[43mcluster_centers_\u001b[49m\u001b[43m[\u001b[49m\u001b[43m:\u001b[49m\u001b[43m,\u001b[49m\u001b[43m \u001b[49m\u001b[38;5;241;43m4\u001b[39;49m\u001b[43m]\u001b[49m,\n\u001b[0;32m     30\u001b[0m     s\u001b[38;5;241m=\u001b[39m\u001b[38;5;241m250\u001b[39m, marker\u001b[38;5;241m=\u001b[39m\u001b[38;5;124m'\u001b[39m\u001b[38;5;124m*\u001b[39m\u001b[38;5;124m'\u001b[39m,\n\u001b[0;32m     31\u001b[0m     c\u001b[38;5;241m=\u001b[39m\u001b[38;5;124m'\u001b[39m\u001b[38;5;124mred\u001b[39m\u001b[38;5;124m'\u001b[39m, edgecolor\u001b[38;5;241m=\u001b[39m\u001b[38;5;124m'\u001b[39m\u001b[38;5;124mblack\u001b[39m\u001b[38;5;124m'\u001b[39m,\n\u001b[0;32m     32\u001b[0m     label\u001b[38;5;241m=\u001b[39m\u001b[38;5;124m'\u001b[39m\u001b[38;5;124mcentroids\u001b[39m\u001b[38;5;124m'\u001b[39m\n\u001b[0;32m     33\u001b[0m )\n\u001b[0;32m     35\u001b[0m plt\u001b[38;5;241m.\u001b[39mlegend(scatterpoints\u001b[38;5;241m=\u001b[39m\u001b[38;5;241m1\u001b[39m)\n\u001b[0;32m     36\u001b[0m plt\u001b[38;5;241m.\u001b[39mgrid()\n",
      "\u001b[1;31mIndexError\u001b[0m: index 4 is out of bounds for axis 1 with size 4"
     ]
    },
    {
     "data": {
      "image/png": "[encoded data removed]",
      "text/plain": [
       "<Figure size 640x480 with 1 Axes>"
      ]
     },
     "metadata": {},
     "output_type": "display_data"
    }
   ],
   "source": [
    "\n",
    "plt.scatter(\n",
    "    movie_np[label_4 == 0, 0], movie_np[label_4 == 0, 3],\n",
    "    c='orange',\n",
    "    marker='o', edgecolor='black',\n",
    "    label='cluster 1'\n",
    ")\n",
    "\n",
    "plt.scatter(\n",
    "    movie_np[label_4 == 1, 0], movie_np[label_4 == 1, 3],\n",
    "    c='orange',\n",
    "    marker='o', edgecolor='black',\n",
    "    label='cluster 2'\n",
    ")\n",
    "\n",
    "plt.scatter(\n",
    "    movie_np[label_4 == 2, 0], movie_np[label_4 == 2, 3],\n",
    "    c='lightblue',\n",
    "    marker='v', edgecolor='black',\n",
    "    label='cluster 3'\n",
    ")\n",
    "plt.scatter(\n",
    "    movie_np[label_4 == 3, 0], movie_np[label_4 == 3, 3],\n",
    "    c='lightblue',\n",
    "    marker='v', edgecolor='black',\n",
    "    label='cluster 4'\n",
    ")\n",
    "\n",
    "plt.scatter(\n",
    "    model.cluster_centers_[:, 0], model.cluster_centers_[:, 4],\n",
    "    s=250, marker='*',\n",
    "    c='red', edgecolor='black',\n",
    "    label='centroids'\n",
    ")\n",
    "\n",
    "plt.legend(scatterpoints=1)\n",
    "plt.grid()\n",
    "plt.show()"
   ]
  },
  {
   "cell_type": "code",
   "execution_count": 74,
   "id": "d2be9f24",
   "metadata": {},
   "outputs": [
    {
     "name": "stdout",
     "output_type": "stream",
     "text": [
      "<class 'pandas.core.frame.DataFrame'>\n",
      "Int64Index: 5421 entries, 0 to 7652\n",
      "Data columns (total 5 columns):\n",
      " #   Column   Non-Null Count  Dtype  \n",
      "---  ------   --------------  -----  \n",
      " 0   id       5421 non-null   int64  \n",
      " 1   rating   5421 non-null   object \n",
      " 2   genre    5421 non-null   object \n",
      " 3   score    5421 non-null   float64\n",
      " 4   runtime  5421 non-null   float64\n",
      "dtypes: float64(2), int64(1), object(2)\n",
      "memory usage: 254.1+ KB\n"
     ]
    }
   ],
   "source": [
    "\n",
    "movies_df1 =df[[\"id\",\"rating\", \"genre\", \"score\",\"runtime\"]]\n",
    "\n",
    "movies_df1.info()"
   ]
  },
  {
   "cell_type": "code",
   "execution_count": 75,
   "id": "e393742d",
   "metadata": {},
   "outputs": [
    {
     "name": "stdout",
     "output_type": "stream",
     "text": [
      "<class 'pandas.core.frame.DataFrame'>\n",
      "Int64Index: 5421 entries, 0 to 7652\n",
      "Data columns (total 2 columns):\n",
      " #   Column  Non-Null Count  Dtype \n",
      "---  ------  --------------  ----- \n",
      " 0   id      5421 non-null   int64 \n",
      " 1   name    5421 non-null   object\n",
      "dtypes: int64(1), object(1)\n",
      "memory usage: 127.1+ KB\n"
     ]
    }
   ],
   "source": [
    "movies_df2 = df[[\"id\",\"name\"]]\n",
    "\n",
    "movies_df2.info()"
   ]
  },
  {
   "cell_type": "code",
   "execution_count": 76,
   "id": "e8afd91a",
   "metadata": {},
   "outputs": [
    {
     "data": {
      "text/html": [
       "<div>\n",
       "<style scoped>\n",
       "    .dataframe tbody tr th:only-of-type {\n",
       "        vertical-align: middle;\n",
       "    }\n",
       "\n",
       "    .dataframe tbody tr th {\n",
       "        vertical-align: top;\n",
       "    }\n",
       "\n",
       "    .dataframe thead th {\n",
       "        text-align: right;\n",
       "    }\n",
       "</style>\n",
       "<table border=\"1\" class=\"dataframe\">\n",
       "  <thead>\n",
       "    <tr style=\"text-align: right;\">\n",
       "      <th></th>\n",
       "      <th>id</th>\n",
       "      <th>name</th>\n",
       "    </tr>\n",
       "  </thead>\n",
       "  <tbody>\n",
       "    <tr>\n",
       "      <th>0</th>\n",
       "      <td>0</td>\n",
       "      <td>The Shining</td>\n",
       "    </tr>\n",
       "    <tr>\n",
       "      <th>1</th>\n",
       "      <td>1</td>\n",
       "      <td>The Blue Lagoon</td>\n",
       "    </tr>\n",
       "    <tr>\n",
       "      <th>2</th>\n",
       "      <td>2</td>\n",
       "      <td>Star Wars: Episode V - The Empire Strikes Back</td>\n",
       "    </tr>\n",
       "    <tr>\n",
       "      <th>3</th>\n",
       "      <td>3</td>\n",
       "      <td>Airplane!</td>\n",
       "    </tr>\n",
       "    <tr>\n",
       "      <th>4</th>\n",
       "      <td>4</td>\n",
       "      <td>Caddyshack</td>\n",
       "    </tr>\n",
       "  </tbody>\n",
       "</table>\n",
       "</div>"
      ],
      "text/plain": [
       "   id                                            name\n",
       "0   0                                     The Shining\n",
       "1   1                                 The Blue Lagoon\n",
       "2   2  Star Wars: Episode V - The Empire Strikes Back\n",
       "3   3                                       Airplane!\n",
       "4   4                                      Caddyshack"
      ]
     },
     "execution_count": 76,
     "metadata": {},
     "output_type": "execute_result"
    }
   ],
   "source": [
    "movies_df2.head()"
   ]
  },
  {
   "cell_type": "code",
   "execution_count": 77,
   "id": "7f4e9880",
   "metadata": {},
   "outputs": [
    {
     "name": "stdout",
     "output_type": "stream",
     "text": [
      "<class 'pandas.core.frame.DataFrame'>\n",
      "Int64Index: 5421 entries, 0 to 5420\n",
      "Data columns (total 6 columns):\n",
      " #   Column   Non-Null Count  Dtype  \n",
      "---  ------   --------------  -----  \n",
      " 0   id       5421 non-null   int64  \n",
      " 1   rating   5421 non-null   object \n",
      " 2   genre    5421 non-null   object \n",
      " 3   score    5421 non-null   float64\n",
      " 4   runtime  5421 non-null   float64\n",
      " 5   name     5421 non-null   object \n",
      "dtypes: float64(2), int64(1), object(3)\n",
      "memory usage: 296.5+ KB\n"
     ]
    }
   ],
   "source": [
    "lookup=movies_df1.merge(movies_df2, on ='id', how='left')\n",
    "lookup.info()"
   ]
  },
  {
   "cell_type": "code",
   "execution_count": 78,
   "id": "8fdbc7da",
   "metadata": {},
   "outputs": [
    {
     "data": {
      "text/plain": [
       "array([1, 3, 1, ..., 0, 0, 1])"
      ]
     },
     "execution_count": 78,
     "metadata": {},
     "output_type": "execute_result"
    }
   ],
   "source": [
    "label_4=k_mean_4.labels_\n",
    "label_4"
   ]
  },
  {
   "cell_type": "code",
   "execution_count": 79,
   "id": "75a30717",
   "metadata": {},
   "outputs": [
    {
     "name": "stdout",
     "output_type": "stream",
     "text": [
      "<class 'pandas.core.frame.DataFrame'>\n",
      "Int64Index: 5421 entries, 0 to 5420\n",
      "Data columns (total 6 columns):\n",
      " #   Column   Non-Null Count  Dtype  \n",
      "---  ------   --------------  -----  \n",
      " 0   id       5421 non-null   int64  \n",
      " 1   rating   5421 non-null   object \n",
      " 2   genre    5421 non-null   object \n",
      " 3   score    5421 non-null   float64\n",
      " 4   runtime  5421 non-null   float64\n",
      " 5   name     5421 non-null   object \n",
      "dtypes: float64(2), int64(1), object(3)\n",
      "memory usage: 296.5+ KB\n"
     ]
    }
   ],
   "source": [
    "lookup.dropna()\n",
    "lookup.info()"
   ]
  },
  {
   "cell_type": "code",
   "execution_count": 80,
   "id": "d6b451e6",
   "metadata": {},
   "outputs": [
    {
     "data": {
      "text/html": [
       "<div>\n",
       "<style scoped>\n",
       "    .dataframe tbody tr th:only-of-type {\n",
       "        vertical-align: middle;\n",
       "    }\n",
       "\n",
       "    .dataframe tbody tr th {\n",
       "        vertical-align: top;\n",
       "    }\n",
       "\n",
       "    .dataframe thead th {\n",
       "        text-align: right;\n",
       "    }\n",
       "</style>\n",
       "<table border=\"1\" class=\"dataframe\">\n",
       "  <thead>\n",
       "    <tr style=\"text-align: right;\">\n",
       "      <th></th>\n",
       "      <th>id</th>\n",
       "      <th>rating</th>\n",
       "      <th>genre</th>\n",
       "      <th>score</th>\n",
       "      <th>runtime</th>\n",
       "      <th>name</th>\n",
       "      <th>cluster</th>\n",
       "    </tr>\n",
       "  </thead>\n",
       "  <tbody>\n",
       "    <tr>\n",
       "      <th>0</th>\n",
       "      <td>0</td>\n",
       "      <td>R</td>\n",
       "      <td>Drama</td>\n",
       "      <td>8.4</td>\n",
       "      <td>146.0</td>\n",
       "      <td>The Shining</td>\n",
       "      <td>1</td>\n",
       "    </tr>\n",
       "    <tr>\n",
       "      <th>1</th>\n",
       "      <td>1</td>\n",
       "      <td>R</td>\n",
       "      <td>Adventure</td>\n",
       "      <td>5.8</td>\n",
       "      <td>104.0</td>\n",
       "      <td>The Blue Lagoon</td>\n",
       "      <td>3</td>\n",
       "    </tr>\n",
       "    <tr>\n",
       "      <th>2</th>\n",
       "      <td>2</td>\n",
       "      <td>PG</td>\n",
       "      <td>Action</td>\n",
       "      <td>8.7</td>\n",
       "      <td>124.0</td>\n",
       "      <td>Star Wars: Episode V - The Empire Strikes Back</td>\n",
       "      <td>1</td>\n",
       "    </tr>\n",
       "    <tr>\n",
       "      <th>3</th>\n",
       "      <td>3</td>\n",
       "      <td>PG</td>\n",
       "      <td>Comedy</td>\n",
       "      <td>7.7</td>\n",
       "      <td>88.0</td>\n",
       "      <td>Airplane!</td>\n",
       "      <td>0</td>\n",
       "    </tr>\n",
       "    <tr>\n",
       "      <th>4</th>\n",
       "      <td>4</td>\n",
       "      <td>R</td>\n",
       "      <td>Comedy</td>\n",
       "      <td>7.3</td>\n",
       "      <td>98.0</td>\n",
       "      <td>Caddyshack</td>\n",
       "      <td>0</td>\n",
       "    </tr>\n",
       "  </tbody>\n",
       "</table>\n",
       "</div>"
      ],
      "text/plain": [
       "   id rating      genre  score  runtime  \\\n",
       "0   0      R      Drama    8.4    146.0   \n",
       "1   1      R  Adventure    5.8    104.0   \n",
       "2   2     PG     Action    8.7    124.0   \n",
       "3   3     PG     Comedy    7.7     88.0   \n",
       "4   4      R     Comedy    7.3     98.0   \n",
       "\n",
       "                                             name  cluster  \n",
       "0                                     The Shining        1  \n",
       "1                                 The Blue Lagoon        3  \n",
       "2  Star Wars: Episode V - The Empire Strikes Back        1  \n",
       "3                                       Airplane!        0  \n",
       "4                                      Caddyshack        0  "
      ]
     },
     "execution_count": 80,
     "metadata": {},
     "output_type": "execute_result"
    }
   ],
   "source": [
    "lookup['cluster'] = label_4\n",
    "lookup.head()"
   ]
  },
  {
   "cell_type": "code",
   "execution_count": 81,
   "id": "6af0302f",
   "metadata": {},
   "outputs": [
    {
     "data": {
      "text/html": [
       "<div>\n",
       "<style scoped>\n",
       "    .dataframe tbody tr th:only-of-type {\n",
       "        vertical-align: middle;\n",
       "    }\n",
       "\n",
       "    .dataframe tbody tr th {\n",
       "        vertical-align: top;\n",
       "    }\n",
       "\n",
       "    .dataframe thead th {\n",
       "        text-align: right;\n",
       "    }\n",
       "</style>\n",
       "<table border=\"1\" class=\"dataframe\">\n",
       "  <thead>\n",
       "    <tr style=\"text-align: right;\">\n",
       "      <th></th>\n",
       "      <th>id</th>\n",
       "      <th>rating</th>\n",
       "      <th>genre</th>\n",
       "      <th>score</th>\n",
       "      <th>runtime</th>\n",
       "      <th>name</th>\n",
       "      <th>cluster</th>\n",
       "    </tr>\n",
       "  </thead>\n",
       "  <tbody>\n",
       "    <tr>\n",
       "      <th>0</th>\n",
       "      <td>0</td>\n",
       "      <td>R</td>\n",
       "      <td>Drama</td>\n",
       "      <td>8.4</td>\n",
       "      <td>146.0</td>\n",
       "      <td>The Shining</td>\n",
       "      <td>1</td>\n",
       "    </tr>\n",
       "    <tr>\n",
       "      <th>1</th>\n",
       "      <td>1</td>\n",
       "      <td>R</td>\n",
       "      <td>Adventure</td>\n",
       "      <td>5.8</td>\n",
       "      <td>104.0</td>\n",
       "      <td>The Blue Lagoon</td>\n",
       "      <td>3</td>\n",
       "    </tr>\n",
       "    <tr>\n",
       "      <th>2</th>\n",
       "      <td>2</td>\n",
       "      <td>PG</td>\n",
       "      <td>Action</td>\n",
       "      <td>8.7</td>\n",
       "      <td>124.0</td>\n",
       "      <td>Star Wars: Episode V - The Empire Strikes Back</td>\n",
       "      <td>1</td>\n",
       "    </tr>\n",
       "    <tr>\n",
       "      <th>3</th>\n",
       "      <td>3</td>\n",
       "      <td>PG</td>\n",
       "      <td>Comedy</td>\n",
       "      <td>7.7</td>\n",
       "      <td>88.0</td>\n",
       "      <td>Airplane!</td>\n",
       "      <td>0</td>\n",
       "    </tr>\n",
       "    <tr>\n",
       "      <th>4</th>\n",
       "      <td>4</td>\n",
       "      <td>R</td>\n",
       "      <td>Comedy</td>\n",
       "      <td>7.3</td>\n",
       "      <td>98.0</td>\n",
       "      <td>Caddyshack</td>\n",
       "      <td>0</td>\n",
       "    </tr>\n",
       "  </tbody>\n",
       "</table>\n",
       "</div>"
      ],
      "text/plain": [
       "   id rating      genre  score  runtime  \\\n",
       "0   0      R      Drama    8.4    146.0   \n",
       "1   1      R  Adventure    5.8    104.0   \n",
       "2   2     PG     Action    8.7    124.0   \n",
       "3   3     PG     Comedy    7.7     88.0   \n",
       "4   4      R     Comedy    7.3     98.0   \n",
       "\n",
       "                                             name  cluster  \n",
       "0                                     The Shining        1  \n",
       "1                                 The Blue Lagoon        3  \n",
       "2  Star Wars: Episode V - The Empire Strikes Back        1  \n",
       "3                                       Airplane!        0  \n",
       "4                                      Caddyshack        0  "
      ]
     },
     "execution_count": 81,
     "metadata": {},
     "output_type": "execute_result"
    }
   ],
   "source": [
    "\n",
    "lookup.head()"
   ]
  },
  {
   "cell_type": "markdown",
   "id": "a545320b",
   "metadata": {},
   "source": [
    "# Function recommendation"
   ]
  },
  {
   "cell_type": "code",
   "execution_count": 82,
   "id": "5c28297b",
   "metadata": {},
   "outputs": [],
   "source": [
    "def recommend(model, rating, genre, score, runtime):\n",
    "  arr = np.array([[ rating, genre, score, runtime]])\n",
    "  pred = model.predict(arr)\n",
    "  return lookup[lookup['cluster'] == pred[0]].sample(10)"
   ]
  },
  {
   "cell_type": "code",
   "execution_count": 83,
   "id": "8f8f1bd6",
   "metadata": {},
   "outputs": [
    {
     "data": {
      "text/html": [
       "<div>\n",
       "<style scoped>\n",
       "    .dataframe tbody tr th:only-of-type {\n",
       "        vertical-align: middle;\n",
       "    }\n",
       "\n",
       "    .dataframe tbody tr th {\n",
       "        vertical-align: top;\n",
       "    }\n",
       "\n",
       "    .dataframe thead th {\n",
       "        text-align: right;\n",
       "    }\n",
       "</style>\n",
       "<table border=\"1\" class=\"dataframe\">\n",
       "  <thead>\n",
       "    <tr style=\"text-align: right;\">\n",
       "      <th></th>\n",
       "      <th>id</th>\n",
       "      <th>rating</th>\n",
       "      <th>genre</th>\n",
       "      <th>score</th>\n",
       "      <th>runtime</th>\n",
       "      <th>name</th>\n",
       "      <th>cluster</th>\n",
       "    </tr>\n",
       "  </thead>\n",
       "  <tbody>\n",
       "    <tr>\n",
       "      <th>2813</th>\n",
       "      <td>4306</td>\n",
       "      <td>PG-13</td>\n",
       "      <td>Biography</td>\n",
       "      <td>6.9</td>\n",
       "      <td>100.0</td>\n",
       "      <td>Girl with a Pearl Earring</td>\n",
       "      <td>0</td>\n",
       "    </tr>\n",
       "    <tr>\n",
       "      <th>2649</th>\n",
       "      <td>4120</td>\n",
       "      <td>PG-13</td>\n",
       "      <td>Drama</td>\n",
       "      <td>6.2</td>\n",
       "      <td>99.0</td>\n",
       "      <td>Solaris</td>\n",
       "      <td>0</td>\n",
       "    </tr>\n",
       "    <tr>\n",
       "      <th>855</th>\n",
       "      <td>1550</td>\n",
       "      <td>PG</td>\n",
       "      <td>Comedy</td>\n",
       "      <td>4.4</td>\n",
       "      <td>84.0</td>\n",
       "      <td>Police Academy 6: City Under Siege</td>\n",
       "      <td>0</td>\n",
       "    </tr>\n",
       "    <tr>\n",
       "      <th>2050</th>\n",
       "      <td>3376</td>\n",
       "      <td>PG-13</td>\n",
       "      <td>Comedy</td>\n",
       "      <td>4.7</td>\n",
       "      <td>100.0</td>\n",
       "      <td>Major League: Back to the Minors</td>\n",
       "      <td>0</td>\n",
       "    </tr>\n",
       "    <tr>\n",
       "      <th>3848</th>\n",
       "      <td>5576</td>\n",
       "      <td>PG-13</td>\n",
       "      <td>Comedy</td>\n",
       "      <td>5.8</td>\n",
       "      <td>100.0</td>\n",
       "      <td>Ghosts of Girlfriends Past</td>\n",
       "      <td>0</td>\n",
       "    </tr>\n",
       "    <tr>\n",
       "      <th>1544</th>\n",
       "      <td>2678</td>\n",
       "      <td>PG</td>\n",
       "      <td>Comedy</td>\n",
       "      <td>6.1</td>\n",
       "      <td>100.0</td>\n",
       "      <td>Casper</td>\n",
       "      <td>0</td>\n",
       "    </tr>\n",
       "    <tr>\n",
       "      <th>4804</th>\n",
       "      <td>6747</td>\n",
       "      <td>R</td>\n",
       "      <td>Comedy</td>\n",
       "      <td>6.6</td>\n",
       "      <td>95.0</td>\n",
       "      <td>Irrational Man</td>\n",
       "      <td>0</td>\n",
       "    </tr>\n",
       "    <tr>\n",
       "      <th>947</th>\n",
       "      <td>1716</td>\n",
       "      <td>R</td>\n",
       "      <td>Action</td>\n",
       "      <td>6.0</td>\n",
       "      <td>93.0</td>\n",
       "      <td>Marked for Death</td>\n",
       "      <td>0</td>\n",
       "    </tr>\n",
       "    <tr>\n",
       "      <th>298</th>\n",
       "      <td>522</td>\n",
       "      <td>PG-13</td>\n",
       "      <td>Comedy</td>\n",
       "      <td>6.4</td>\n",
       "      <td>95.0</td>\n",
       "      <td>Night of the Comet</td>\n",
       "      <td>0</td>\n",
       "    </tr>\n",
       "    <tr>\n",
       "      <th>178</th>\n",
       "      <td>335</td>\n",
       "      <td>R</td>\n",
       "      <td>Adventure</td>\n",
       "      <td>7.4</td>\n",
       "      <td>98.0</td>\n",
       "      <td>National Lampoon's Vacation</td>\n",
       "      <td>0</td>\n",
       "    </tr>\n",
       "  </tbody>\n",
       "</table>\n",
       "</div>"
      ],
      "text/plain": [
       "        id rating      genre  score  runtime  \\\n",
       "2813  4306  PG-13  Biography    6.9    100.0   \n",
       "2649  4120  PG-13      Drama    6.2     99.0   \n",
       "855   1550     PG     Comedy    4.4     84.0   \n",
       "2050  3376  PG-13     Comedy    4.7    100.0   \n",
       "3848  5576  PG-13     Comedy    5.8    100.0   \n",
       "1544  2678     PG     Comedy    6.1    100.0   \n",
       "4804  6747      R     Comedy    6.6     95.0   \n",
       "947   1716      R     Action    6.0     93.0   \n",
       "298    522  PG-13     Comedy    6.4     95.0   \n",
       "178    335      R  Adventure    7.4     98.0   \n",
       "\n",
       "                                    name  cluster  \n",
       "2813           Girl with a Pearl Earring        0  \n",
       "2649                             Solaris        0  \n",
       "855   Police Academy 6: City Under Siege        0  \n",
       "2050    Major League: Back to the Minors        0  \n",
       "3848          Ghosts of Girlfriends Past        0  \n",
       "1544                              Casper        0  \n",
       "4804                      Irrational Man        0  \n",
       "947                     Marked for Death        0  \n",
       "298                   Night of the Comet        0  \n",
       "178          National Lampoon's Vacation        0  "
      ]
     },
     "execution_count": 83,
     "metadata": {},
     "output_type": "execute_result"
    }
   ],
   "source": [
    "# Quy đổi rating 'R':0,'PG':1,'PG-13':2,'Not Rated':3,'G':4,'Others':5\n",
    "# Quy đổi genre 'Comedy':0,'Action':1,'Drama':2,'Crime':3,'Biography':4,'Adventure':5,'Animation':5,'Horror':6,'Others':7\n",
    "rating = 0\n",
    "genre = 3\n",
    "score = 7.3\n",
    "runtime = 100\n",
    "\n",
    "recommend(model, rating, genre, score, runtime)"
   ]
  }
 ],
 "metadata": {
  "kernelspec": {
   "display_name": "Python 3 (ipykernel)",
   "language": "python",
   "name": "python3"
  },
  "language_info": {
   "codemirror_mode": {
    "name": "ipython",
    "version": 3
   },
   "file_extension": ".py",
   "mimetype": "text/x-python",
   "name": "python",
   "nbconvert_exporter": "python",
   "pygments_lexer": "ipython3",
   "version": "3.10.9"
  }
 },
 "nbformat": 4,
 "nbformat_minor": 5
}
